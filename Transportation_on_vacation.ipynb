{
 "cells": [
  {
   "cell_type": "markdown",
   "metadata": {},
   "source": [
    "## Transportation on vacation\n",
    "\n",
    "https://www.codewars.com/kata/568d0dd208ee69389d000016/train/python"
   ]
  },
  {
   "cell_type": "markdown",
   "metadata": {},
   "source": [
    "After a hard quarter in the office you decide to get some rest on a vacation. So you will book a flight for you and your partner and try to leave all the mess behind you.\n",
    "\n",
    "You will need a rental car in order for you to get around in your vacation. The manager of the car rental makes you some good offers.\n",
    "\n",
    "Every day you rent the car costs $40. If you rent the car for 7 or more days, you get $50 off your total. Alternatively, if you rent the car for 3 or more days, you get $20 off your total.\n",
    "\n",
    "Write a code that gives out the total amount for different days(d).\n",
    "\n"
   ]
  },
  {
   "cell_type": "code",
   "execution_count": 1,
   "metadata": {},
   "outputs": [],
   "source": [
    "def rental_car_cost(d):\n",
    "    # your code\n",
    "    tarifa = 40 * d    \n",
    "    if d >= 7: \n",
    "        total= tarifa - 50        \n",
    "    elif d >= 3:\n",
    "        total = tarifa - 20\n",
    "    else:\n",
    "        total = tarifa\n",
    "    return(total)"
   ]
  },
  {
   "cell_type": "code",
   "execution_count": 3,
   "metadata": {},
   "outputs": [],
   "source": [
    "rental_car_cost(8)"
   ]
  },
  {
   "cell_type": "code",
   "execution_count": null,
   "metadata": {},
   "outputs": [],
   "source": []
  },
  {
   "cell_type": "code",
   "execution_count": null,
   "metadata": {},
   "outputs": [],
   "source": []
  },
  {
   "cell_type": "code",
   "execution_count": null,
   "metadata": {},
   "outputs": [],
   "source": []
  }
 ],
 "metadata": {
  "kernelspec": {
   "display_name": "Python 3",
   "language": "python",
   "name": "python3"
  },
  "language_info": {
   "codemirror_mode": {
    "name": "ipython",
    "version": 3
   },
   "file_extension": ".py",
   "mimetype": "text/x-python",
   "name": "python",
   "nbconvert_exporter": "python",
   "pygments_lexer": "ipython3",
   "version": "3.8.5"
  }
 },
 "nbformat": 4,
 "nbformat_minor": 4
}
